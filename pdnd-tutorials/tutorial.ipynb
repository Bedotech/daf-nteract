{
 "cells": [
  {
   "cell_type": "markdown",
   "metadata": {},
   "source": [
    "# Getting started tutorial\n",
    "\n",
    "We will go thought some simple steps to start with playing with pdnd-nteract, only for describing the basic steps and functionalities. \n",
    "In the next weeks we hope to publish some interesting use cases that could be also used for teaching and education.\n",
    "\nOf course you must have launched nteract from the daf-develop branch. In case read [here](https://github.com/teamdigitale/nteract/blob/daf-develop/pdnd-nteract.md). Once launched nteract start a new python 3 notebook"
   ]
  }
 ],
 "metadata": {
  "kernelspec": {
   "display_name": "Python 3",
   "language": "python",
   "name": "python3"
  },
  "language_info": {
   "codemirror_mode": {
    "name": "ipython",
    "version": 3
   },
   "file_extension": ".py",
   "mimetype": "text/x-python",
   "name": "python",
   "nbconvert_exporter": "python",
   "pygments_lexer": "ipython3",
   "version": "3.7.2"
  },
  "nteract": {
   "version": "nteract-on-jupyter@2.0.5"
  }
 },
 "nbformat": 4,
 "nbformat_minor": 2
}
